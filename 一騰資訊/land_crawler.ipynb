{
  "nbformat": 4,
  "nbformat_minor": 0,
  "metadata": {
    "colab": {
      "name": "land_crawler.ipynb",
      "provenance": [],
      "authorship_tag": "ABX9TyONk1OzJlXZiGgoRxvKrePc",
      "include_colab_link": true
    },
    "kernelspec": {
      "name": "python3",
      "display_name": "Python 3"
    },
    "language_info": {
      "name": "python"
    }
  },
  "cells": [
    {
      "cell_type": "markdown",
      "metadata": {
        "id": "view-in-github",
        "colab_type": "text"
      },
      "source": [
        "<a href=\"https://colab.research.google.com/github/Lin8823/Lin/blob/main/%E4%B8%80%E9%A8%B0%E8%B3%87%E8%A8%8A/land_crawler.ipynb\" target=\"_parent\"><img src=\"https://colab.research.google.com/assets/colab-badge.svg\" alt=\"Open In Colab\"/></a>"
      ]
    },
    {
      "cell_type": "code",
      "source": [
        "!pip install selenium\n",
        "!apt-get update \n",
        "!apt install chromium-chromedriver"
      ],
      "metadata": {
        "id": "TRTYxny7cLA6"
      },
      "execution_count": null,
      "outputs": []
    },
    {
      "cell_type": "code",
      "execution_count": null,
      "metadata": {
        "id": "j4tmndBiaNop",
        "colab": {
          "base_uri": "https://localhost:8080/"
        },
        "outputId": "5e619a8b-31bd-4166-e5cf-11ea3c31d352"
      },
      "outputs": [
        {
          "output_type": "stream",
          "name": "stderr",
          "text": [
            "/usr/local/lib/python3.7/dist-packages/requests/__init__.py:91: RequestsDependencyWarning: urllib3 (1.26.9) or chardet (3.0.4) doesn't match a supported version!\n",
            "  RequestsDependencyWarning)\n"
          ]
        }
      ],
      "source": [
        "import requests\n",
        "import json\n",
        "from bs4 import BeautifulSoup\n",
        "import bs4\n",
        "import pandas as pd\n",
        "import re\n",
        "import numpy as np\n",
        "from selenium import webdriver\n",
        "from selenium.webdriver.chrome.options import Options\n",
        "from selenium.webdriver.common.by import By\n",
        "from selenium.webdriver.support.ui import Select\n",
        "from selenium.webdriver.support.ui import WebDriverWait\n",
        "from selenium.webdriver.support import expected_conditions as EC"
      ]
    },
    {
      "cell_type": "code",
      "source": [
        "chrome_options = Options()\n",
        "chrome_options.add_argument('--headless')\n",
        "chrome_options.add_argument('--no-sandbox')\n",
        "chrome_options.add_argument('--disable-dev-shm-usage')\n",
        "browser =webdriver.Chrome(options=chrome_options)"
      ],
      "metadata": {
        "id": "hDwlHozAC9vV"
      },
      "execution_count": null,
      "outputs": []
    },
    {
      "cell_type": "code",
      "source": [
        "browser.get(\"https://plvr.land.moi.gov.tw/DownloadOpenData\")\n",
        "soup = BeautifulSoup(browser.page_source, \"html.parser\")\n",
        "browser.find_element(By.XPATH, '//*[@id=\"ui-id-2\"]').click() #選取非本期下載\n",
        "nextPageElement = WebDriverWait(browser, 10).until(EC.presence_of_element_located((By.ID, \"historySeason_id\"))) #等待網頁加載完成，若未等待，無法搜尋到前季下載之選單\n",
        "select = Select(browser.find_element(By.ID, 'historySeason_id')) #前季下載之下拉式選單\n",
        "select.select_by_value('108S2') #選擇108年第2季\n",
        "select2 = Select(browser.find_element(By.ID, 'fileFormatId')) \n",
        "select2.select_by_value('csv') #選擇下載格式csv\n",
        "browser.find_element(By.XPATH,'//*[@id=\"downloadTypeId2\"]').click() #選擇進階下載\n",
        "#下載臺北市/新北市/桃園市/臺中市/高雄市之不動產買賣資料\n",
        "browser.find_element(By.XPATH,'//*[@id=\"table5\"]/tbody/tr[7]/td[2]/input').click()\n",
        "browser.find_element(By.XPATH,'//*[@id=\"table5\"]/tbody/tr[8]/td[2]/input').click()\n",
        "browser.find_element(By.XPATH,'//*[@id=\"table5\"]/tbody/tr[9]/td[2]/input').click()\n",
        "browser.find_element(By.XPATH,'//*[@id=\"table5\"]/tbody/tr[13]/td[2]/input').click()\n",
        "browser.find_element(By.XPATH,'//*[@id=\"table5\"]/tbody/tr[20]/td[2]/input').click()\n",
        "#下載按鈕\n",
        "download = browser.find_element(By.XPATH, '/html/body/div[1]/div[2]/div[1]/div[2]/table/tbody/tr[2]/td[2]/table/tbody/tr[2]/td/div/div/div[2]/div/table[3]/tbody/tr[1]/td[3]/input') \n",
        "browser.execute_script(\"arguments[0].click();\", download)"
      ],
      "metadata": {
        "id": "itRw4fAEeUkk"
      },
      "execution_count": null,
      "outputs": []
    },
    {
      "cell_type": "code",
      "source": [
        "!unzip /content/download.zip #colab上執行解壓縮"
      ],
      "metadata": {
        "colab": {
          "base_uri": "https://localhost:8080/"
        },
        "id": "hFas6dnS8EBd",
        "outputId": "80ffde9a-d995-46ea-a092-b1e9c650f648"
      },
      "execution_count": null,
      "outputs": [
        {
          "output_type": "stream",
          "name": "stdout",
          "text": [
            "Archive:  /content/download.zip\n",
            "  inflating: 108S2                   \n",
            "  inflating: schema-land.csv         \n",
            "  inflating: schema-main.csv         \n",
            "  inflating: schema-park.csv         \n",
            "  inflating: schema-build.csv        \n",
            "  inflating: manifest.csv            \n",
            "  inflating: A_lvr_land_A.csv        \n",
            "  inflating: F_lvr_land_A.csv        \n",
            "  inflating: H_lvr_land_A.csv        \n",
            "  inflating: B_lvr_land_A.csv        \n",
            "  inflating: E_lvr_land_A.csv        \n"
          ]
        }
      ]
    }
  ]
}