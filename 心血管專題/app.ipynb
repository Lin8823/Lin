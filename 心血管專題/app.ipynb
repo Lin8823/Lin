{
 "cells": [
  {
   "cell_type": "code",
   "execution_count": null,
   "metadata": {},
   "outputs": [],
   "source": [
    "from flask import Flask, render_template, request, jsonify, json\n",
    "app = Flask(__name__)\n",
    "\n",
    "@app.route('/data')\n",
    "def webapi():\n",
    "    return render_template('data.html')\n",
    "\n",
    "@app.route('/data/message', methods=['GET'])\n",
    "def getDataMessage():\n",
    "    if request.method == \"GET\":\n",
    "        with open('static/data/message.json', 'r') as f:\n",
    "            data = json.load(f)\n",
    "            print(\"text : \", data)\n",
    "        f.close\n",
    "        return jsonify(data)  # 直接回傳 data 也可以，都是 json 格式\n",
    "\n",
    "@app.route('/data/message', methods=['POST'])\n",
    "def setDataMessage():\n",
    "    if request.method == \"POST\":\n",
    "        data = {\n",
    "            'appInfo': {\n",
    "                'id': request.form['app_id'],\n",
    "                'name': request.form['app_name'],\n",
    "                'version': request.form['app_version'],\n",
    "                'author': request.form['app_author'],\n",
    "                'remark': request.form['app_remark']\n",
    "            }\n",
    "        }\n",
    "        print(type(data))\n",
    "        with open('static/data/input.json', 'w') as f:\n",
    "            json.dump(data, f)\n",
    "        f.close\n",
    "        return jsonify(result='OK')\n",
    "\n",
    "if __name__ == '__main__':\n",
    "    app.run()"
   ]
  }
 ],
 "metadata": {
  "kernelspec": {
   "display_name": "Python 3",
   "language": "python",
   "name": "python3"
  },
  "language_info": {
   "codemirror_mode": {
    "name": "ipython",
    "version": 3
   },
   "file_extension": ".py",
   "mimetype": "text/x-python",
   "name": "python",
   "nbconvert_exporter": "python",
   "pygments_lexer": "ipython3",
   "version": "3.7.6"
  }
 },
 "nbformat": 4,
 "nbformat_minor": 4
}
