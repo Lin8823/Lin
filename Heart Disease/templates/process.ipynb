{
 "cells": [
  {
   "cell_type": "code",
   "execution_count": 27,
   "metadata": {},
   "outputs": [
    {
     "name": "stdout",
     "output_type": "stream",
     "text": [
      "患有心血管疾病之機率： [0. 1.]\n"
     ]
    }
   ],
   "source": [
    "import tensorflow as tf\n",
    "from tensorflow import keras\n",
    "from keras.models import load_model\n",
    "from tensorflow import keras\n",
    "from keras.layers import Dense\n",
    "def Calculate(data):\n",
    "    your_model = tf.keras.models.load_model('my_model.h5', custom_objects={'Functional':tf.keras.models.Model})\n",
    "    model = load_model('my_model.h5')\n",
    "    result = model.predict(data)\n",
    "    possibility = print('患有心血管疾病之機率：',result[0])\n",
    "    return possibility\n",
    "if __name__ == '__main__':\n",
    "    Calculate([[57, 0, 0, 140, 241, 0, 1, 123, 1, 0.2, 1, 0, 3]])"
   ]
  },
  {
   "cell_type": "code",
   "execution_count": 25,
   "metadata": {},
   "outputs": [
    {
     "name": "stdout",
     "output_type": "stream",
     "text": [
      "患有心血管疾病之機率： 0.0\n"
     ]
    }
   ],
   "source": [
    "Calculate([[63, 1, 3, 145, 233, 1, 0, 150, 0, 2.3, 0, 0, 1]])"
   ]
  }
 ],
 "metadata": {
  "kernelspec": {
   "display_name": "Python 3",
   "language": "python",
   "name": "python3"
  },
  "language_info": {
   "codemirror_mode": {
    "name": "ipython",
    "version": 3
   },
   "file_extension": ".py",
   "mimetype": "text/x-python",
   "name": "python",
   "nbconvert_exporter": "python",
   "pygments_lexer": "ipython3",
   "version": "3.7.6"
  }
 },
 "nbformat": 4,
 "nbformat_minor": 4
}
